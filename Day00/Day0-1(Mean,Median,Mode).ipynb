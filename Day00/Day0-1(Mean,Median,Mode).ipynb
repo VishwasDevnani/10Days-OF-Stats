{
 "cells": [
  {
   "cell_type": "code",
   "execution_count": null,
   "metadata": {},
   "outputs": [],
   "source": [
    "# Enter your code here. Read input from STDIN. Print output to STDOUT\n",
    "N=int(input())\n",
    "arr=[int(x) for x in input().split()]\n",
    "print(\"{0:.1f}\".format(sum(arr)/N))\n",
    "arr=sorted(arr)\n",
    "if N%2!=0:\n",
    "    print(arr[((N+1)/2)-1])\n",
    "else:\n",
    "    a=int(N/2)\n",
    "    \n",
    "    print(\"{0:.1f}\".format((arr[a]+arr[(a)-1])/2))\n",
    "    \n",
    "if len(set(arr))==len(arr):\n",
    "    print(min(arr))\n",
    "else:\n",
    "    print(max(sorted(set(arr)), key=arr.count))\n",
    "    \n"
   ]
  },
  {
   "cell_type": "code",
   "execution_count": null,
   "metadata": {},
   "outputs": [],
   "source": []
  }
 ],
 "metadata": {
  "kernelspec": {
   "display_name": "Python 3",
   "language": "python",
   "name": "python3"
  },
  "language_info": {
   "codemirror_mode": {
    "name": "ipython",
    "version": 3
   },
   "file_extension": ".py",
   "mimetype": "text/x-python",
   "name": "python",
   "nbconvert_exporter": "python",
   "pygments_lexer": "ipython3",
   "version": "3.8.3"
  }
 },
 "nbformat": 4,
 "nbformat_minor": 4
}
