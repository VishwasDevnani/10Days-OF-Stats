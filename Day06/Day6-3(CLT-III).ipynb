{
 "cells": [
  {
   "cell_type": "code",
   "execution_count": null,
   "metadata": {},
   "outputs": [],
   "source": [
    "# Enter your code here. Read input from STDIN. Print output to STDOUT\n",
    "\n",
    "import math\n",
    "\n",
    "# Set data\n",
    "n = float(input())\n",
    "mean = float(input())\n",
    "std = float(input())\n",
    "percent_ci = float(input())\n",
    "value_z = float(input())\n",
    "\n",
    "# Formula CI\n",
    "z = value_z * (std / math.sqrt(n))\n",
    "\n",
    "# Gets the result and show on the screen\n",
    "print(round(mean - z, 2))\n",
    "print(round(mean + z, 2))"
   ]
  }
 ],
 "metadata": {
  "kernelspec": {
   "display_name": "Python 3",
   "language": "python",
   "name": "python3"
  },
  "language_info": {
   "codemirror_mode": {
    "name": "ipython",
    "version": 3
   },
   "file_extension": ".py",
   "mimetype": "text/x-python",
   "name": "python",
   "nbconvert_exporter": "python",
   "pygments_lexer": "ipython3",
   "version": "3.8.3"
  }
 },
 "nbformat": 4,
 "nbformat_minor": 4
}
