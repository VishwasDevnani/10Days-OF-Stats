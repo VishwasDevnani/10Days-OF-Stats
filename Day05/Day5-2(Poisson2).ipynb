{
 "cells": [
  {
   "cell_type": "code",
   "execution_count": null,
   "metadata": {},
   "outputs": [],
   "source": [
    "lambdas = list(map(float, input().split()))\n",
    "lambda_a = lambdas[0]\n",
    "lambda_b = lambdas[1]\n",
    "\n",
    "\n",
    "print (round(160 + 40 * (lambda_a + lambda_a ** 2), 3))\n",
    "print (round(128 + 40 * (lambda_b + lambda_b ** 2), 3))"
   ]
  },
  {
   "cell_type": "markdown",
   "metadata": {},
   "source": [
    "<img src=\"Screenshot 2020-11-15 193958.png\">"
   ]
  },
  {
   "cell_type": "code",
   "execution_count": null,
   "metadata": {},
   "outputs": [],
   "source": []
  }
 ],
 "metadata": {
  "kernelspec": {
   "display_name": "Python 3",
   "language": "python",
   "name": "python3"
  },
  "language_info": {
   "codemirror_mode": {
    "name": "ipython",
    "version": 3
   },
   "file_extension": ".py",
   "mimetype": "text/x-python",
   "name": "python",
   "nbconvert_exporter": "python",
   "pygments_lexer": "ipython3",
   "version": "3.8.3"
  }
 },
 "nbformat": 4,
 "nbformat_minor": 4
}
