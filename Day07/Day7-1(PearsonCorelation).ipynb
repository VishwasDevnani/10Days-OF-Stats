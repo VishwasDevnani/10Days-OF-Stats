{
 "cells": [
  {
   "cell_type": "code",
   "execution_count": 10,
   "metadata": {},
   "outputs": [
    {
     "name": "stdout",
     "output_type": "stream",
     "text": [
      "0.612\n"
     ]
    }
   ],
   "source": [
    "# Enter your code here. Read input from STDIN. Print output to STDOUT\n",
    "\n",
    "n=10\n",
    "X=[10,9.8,8,7.8,7.7,7,6,5,4,2] \n",
    "Y=[200,44,32,24,22,17,15,12,8,4]\n",
    "def mean(x,n):\n",
    "    return sum(x)/n\n",
    "\n",
    "def std(x,n,mean):\n",
    "    return sum([((i-mean)**2)/n for i in x])**0.5\n",
    "    \n",
    "def pearson(x, y, n):\n",
    "    \n",
    "    \n",
    "    mean_x=mean(X,n)\n",
    "    mean_y=mean(Y,n)\n",
    "    sigma_x=std(X,n,mean_x)\n",
    "    sigma_y=std(Y,n,mean_y)\n",
    "    \n",
    "    p=0\n",
    "    for i in range(n):\n",
    "       p+= (x[i] - mean_x) * (y[i] - mean_y) / (n * sigma_x * sigma_y)\n",
    "    \n",
    "    return p\n",
    "\n",
    "print(\"{0:.3f}\".format(pearson(X, Y ,n)))"
   ]
  },
  {
   "cell_type": "markdown",
   "metadata": {},
   "source": [
    "\n",
    "<img src=\"Screenshot 2020-11-17 145940.png\">\n"
   ]
  },
  {
   "cell_type": "code",
   "execution_count": null,
   "metadata": {},
   "outputs": [],
   "source": []
  }
 ],
 "metadata": {
  "kernelspec": {
   "display_name": "Python 3",
   "language": "python",
   "name": "python3"
  },
  "language_info": {
   "codemirror_mode": {
    "name": "ipython",
    "version": 3
   },
   "file_extension": ".py",
   "mimetype": "text/x-python",
   "name": "python",
   "nbconvert_exporter": "python",
   "pygments_lexer": "ipython3",
   "version": "3.8.3"
  }
 },
 "nbformat": 4,
 "nbformat_minor": 4
}
