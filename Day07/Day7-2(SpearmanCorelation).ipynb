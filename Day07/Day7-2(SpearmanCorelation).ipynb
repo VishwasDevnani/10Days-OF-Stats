{
 "cells": [
  {
   "cell_type": "code",
   "execution_count": null,
   "metadata": {},
   "outputs": [],
   "source": [
    "# Enter your code here. Read input from STDIN. Print output to STDOUT\n",
    "\n",
    "n,X,Y=int(input()),[float(x) for x in input().split()],[float(x) for x in input().split()]\n",
    "\n",
    "def rank(x):\n",
    "    a=sorted(list(set(x)))\n",
    "    b=[]\n",
    "    for i in x:\n",
    "       b.append(a.index(i)+1)\n",
    "    return b\n",
    "def ans(x,y,n):\n",
    "    rank_x=rank(X)\n",
    "    rank_y=rank(Y)\n",
    "    \n",
    "    return 1 - 6*sum([(rank_x[i]-rank_y[i])**2 for i in range(n)]) / (n*(-1 + n**2))\n",
    "    \n",
    "print(\"{0:.3f}\".format(ans(X,Y,n)))\n"
   ]
  },
  {
   "cell_type": "markdown",
   "metadata": {},
   "source": [
    "<img src=\"Screenshot 2020-11-17 145656.png\">\n"
   ]
  },
  {
   "cell_type": "code",
   "execution_count": null,
   "metadata": {},
   "outputs": [],
   "source": []
  }
 ],
 "metadata": {
  "kernelspec": {
   "display_name": "Python 3",
   "language": "python",
   "name": "python3"
  },
  "language_info": {
   "codemirror_mode": {
    "name": "ipython",
    "version": 3
   },
   "file_extension": ".py",
   "mimetype": "text/x-python",
   "name": "python",
   "nbconvert_exporter": "python",
   "pygments_lexer": "ipython3",
   "version": "3.8.3"
  }
 },
 "nbformat": 4,
 "nbformat_minor": 4
}
