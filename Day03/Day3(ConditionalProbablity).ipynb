{
 "cells": [
  {
   "cell_type": "markdown",
   "metadata": {},
   "source": [
    "# Day3"
   ]
  },
  {
   "cell_type": "markdown",
   "metadata": {},
   "source": [
    "## Question 1"
   ]
  },
  {
   "cell_type": "markdown",
   "metadata": {},
   "source": [
    "Suppose a family has 2 children, one of which is a boy. What is the probability that both children are boys?"
   ]
  },
  {
   "cell_type": "markdown",
   "metadata": {},
   "source": [
    "Approach is to reduce the sample space so that it only contains events where one child is a boy \n",
    "S(boy) = {BB, GB, BG}. If we consider event E to be the event in which both children are boys (so E = {BB}), \n",
    "we can find the probability as a fraction of the reduced sample space:\n",
    "                   \n",
    "                   P(E) = |E|/|S| = 1/3."
   ]
  },
  {
   "cell_type": "markdown",
   "metadata": {},
   "source": [
    "## Question 2"
   ]
  },
  {
   "cell_type": "markdown",
   "metadata": {},
   "source": [
    "You draw 2 cards from a standard 52-card deck without replacing them. What is the probability that both cards are of the same suit?"
   ]
  },
  {
   "cell_type": "markdown",
   "metadata": {},
   "source": [
    "The first card drawn will be from any of the 4 suits and there will be 51 cards left in the deck, \n",
    "only 12 of which match the drawn card's suit. The probability of the second card being of the same suit is:\n",
    "                   \n",
    "                   P(E) = 12/51 = 4/17."
   ]
  },
  {
   "cell_type": "markdown",
   "metadata": {},
   "source": [
    "## Question 3"
   ]
  },
  {
   "cell_type": "markdown",
   "metadata": {},
   "source": [
    "A bag contains 3 red marbles and 4 blue marbles. Then, 2 marbles are drawn from the bag, at random, without replacement. If the first marble drawn is red, what is the probability that the second marble is blue?"
   ]
  },
  {
   "cell_type": "markdown",
   "metadata": {},
   "source": [
    "since already 1 ball is choosen, there are 6 balls left. We need to pick up the blue ball, \n",
    "where there are 4 blue coloured balls. The probabilty is \n",
    "\n",
    "                 P(E) = 4/6 = 2/3."
   ]
  },
  {
   "cell_type": "markdown",
   "metadata": {},
   "source": [
    "<img src=\"sol3.jpg\">"
   ]
  },
  {
   "cell_type": "code",
   "execution_count": null,
   "metadata": {},
   "outputs": [],
   "source": []
  }
 ],
 "metadata": {
  "kernelspec": {
   "display_name": "Python 3",
   "language": "python",
   "name": "python3"
  },
  "language_info": {
   "codemirror_mode": {
    "name": "ipython",
    "version": 3
   },
   "file_extension": ".py",
   "mimetype": "text/x-python",
   "name": "python",
   "nbconvert_exporter": "python",
   "pygments_lexer": "ipython3",
   "version": "3.8.3"
  }
 },
 "nbformat": 4,
 "nbformat_minor": 4
}
