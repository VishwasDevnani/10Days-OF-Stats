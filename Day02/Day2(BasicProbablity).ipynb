{
 "cells": [
  {
   "cell_type": "markdown",
   "metadata": {},
   "source": [
    "# Question1"
   ]
  },
  {
   "cell_type": "markdown",
   "metadata": {},
   "source": [
    "## Day 2: Basic Probability\n",
    "Task: In a single toss of 2 fair (evenly-weighted) six-sided dice, find the probability that their sum will be at most 9.\n",
    "\n",
    "Ans: 30/36 = 5/6\n"
   ]
  },
  {
   "cell_type": "markdown",
   "metadata": {},
   "source": [
    "# Question 2"
   ]
  },
  {
   "cell_type": "markdown",
   "metadata": {},
   "source": [
    "## Day 2: More Dice\n",
    "Task: In a single toss of 2 fair (evenly-weighted) six-sided dice, find the probability that the values rolled by each die will be different and the two dice have a sum of 6.\n",
    "\n",
    "Ans: 4/36 = 1/9\n"
   ]
  },
  {
   "cell_type": "markdown",
   "metadata": {},
   "source": [
    "# Question3"
   ]
  },
  {
   "cell_type": "markdown",
   "metadata": {},
   "source": [
    "## Day 2: Compound Event Probability\n",
    "Task: There are 3 urns labeled X, Y, and Z.\n",
    "\n",
    "Urn contains red balls and black balls.\n",
    "Urn contains red balls and black balls.\n",
    "Urn contains red balls and black balls.\n",
    "\n",
    "One ball is drawn from each of the 3 urns. What is the probability that, of the 3 balls drawn, 2 are red and 1 is black?\n",
    "\n",
    "Ans:\n",
    "\n",
    "Urn X has a 4/7 probability of giving a red ball.\n",
    "Urn Y has a 5/9 probability of giving a red ball.\n",
    "Urn Z has a 1/2 probability of giving a red ball.\n",
    "\n",
    "Urn X has a 3/7 probability of giving a black ball.\n",
    "Urn Y has a 4/9 probability of giving a black ball.\n",
    "Urn Z has a 1/2 probability of giving a black ball.\n",
    "\n",
    "=>P(2 red, 1 black)\n",
    "= P(Red Red Black) + P(Red Black Red) + P(Black Red Red)\n",
    "= (4/7)(5/9)(1/2) + (4/7)(4/9)(1/2) + (3/7)(5/9)(1/2)\n",
    "= 20/126 + 16/126 + 15/126\n",
    "= 51/126\n",
    "= 17/42"
   ]
  },
  {
   "cell_type": "code",
   "execution_count": null,
   "metadata": {},
   "outputs": [],
   "source": []
  }
 ],
 "metadata": {
  "kernelspec": {
   "display_name": "Python 3",
   "language": "python",
   "name": "python3"
  },
  "language_info": {
   "codemirror_mode": {
    "name": "ipython",
    "version": 3
   },
   "file_extension": ".py",
   "mimetype": "text/x-python",
   "name": "python",
   "nbconvert_exporter": "python",
   "pygments_lexer": "ipython3",
   "version": "3.8.3"
  }
 },
 "nbformat": 4,
 "nbformat_minor": 4
}
