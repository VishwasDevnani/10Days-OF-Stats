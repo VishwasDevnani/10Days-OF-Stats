{
 "cells": [
  {
   "cell_type": "code",
   "execution_count": null,
   "metadata": {},
   "outputs": [],
   "source": [
    "# Enter your code here. Read input from STDIN. Print output to STDOUT\n",
    "\n",
    "def fact(n):\n",
    "    if n==0 or n==1:\n",
    "        return 1\n",
    "    else: \n",
    "        return n*fact(n-1)\n",
    "def ans(n,r,p):\n",
    "    return (fact(n)*(p**r)*((1-p)**(n-r)))/(fact(n-r)*fact(r))\n",
    "p=0.12\n",
    "a=0\n",
    "for i in range(3):\n",
    "    a+=ans(10,i,p)\n",
    "\n",
    "print(\"{0:.3f}\".format(a))\n",
    "\n",
    "a=0\n",
    "for i in range(2):\n",
    "    a+=ans(10,i,p)\n",
    "\n",
    "print(\"{0:.3f}\".format(1-a))\n"
   ]
  }
 ],
 "metadata": {
  "kernelspec": {
   "display_name": "Python 3",
   "language": "python",
   "name": "python3"
  },
  "language_info": {
   "codemirror_mode": {
    "name": "ipython",
    "version": 3
   },
   "file_extension": ".py",
   "mimetype": "text/x-python",
   "name": "python",
   "nbconvert_exporter": "python",
   "pygments_lexer": "ipython3",
   "version": "3.8.3"
  }
 },
 "nbformat": 4,
 "nbformat_minor": 4
}
