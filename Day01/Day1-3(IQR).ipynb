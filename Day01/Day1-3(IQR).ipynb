{
 "cells": [
  {
   "cell_type": "code",
   "execution_count": null,
   "metadata": {},
   "outputs": [],
   "source": [
    "# Enter your code here. Read input from STDIN. Print output to STDOUT\n",
    "\n",
    "n,X=int(input()),[int(x) for x in input().split()]\n",
    "X=sorted(X)\n",
    "def median(X,N):\n",
    "    if N%2==0:\n",
    "        \n",
    "        med=(X[int(N/2)]+X[int(N/2)-1])/2\n",
    "        \n",
    "    else:\n",
    "        \n",
    "        med=X[int((N-1)/2)]\n",
    "        \n",
    "    return med\n",
    "\n",
    "Q2=median(X,n)\n",
    "\n",
    "if n%2!=0:\n",
    "    index=int((n-1)/2)    \n",
    "    lower=X[:index]\n",
    "    Q1=median(lower,len(lower))\n",
    "    upper=X[index+1:]\n",
    "    Q3=median(upper,len(upper))\n",
    "else:\n",
    "    index=int(n/2)\n",
    "    lower=X[:index]\n",
    "    Q1=median(lower,len(lower))\n",
    "    upper=X[index:]\n",
    "    Q3=median(upper,len(upper))\n",
    "print(int(Q1))\n",
    "print(int(Q2))\n",
    "print(int(Q3))\n"
   ]
  }
 ],
 "metadata": {
  "kernelspec": {
   "display_name": "Python 3",
   "language": "python",
   "name": "python3"
  },
  "language_info": {
   "codemirror_mode": {
    "name": "ipython",
    "version": 3
   },
   "file_extension": ".py",
   "mimetype": "text/x-python",
   "name": "python",
   "nbconvert_exporter": "python",
   "pygments_lexer": "ipython3",
   "version": "3.8.3"
  }
 },
 "nbformat": 4,
 "nbformat_minor": 4
}
