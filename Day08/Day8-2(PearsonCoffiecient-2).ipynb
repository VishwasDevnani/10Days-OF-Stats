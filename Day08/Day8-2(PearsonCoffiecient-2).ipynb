{
 "cells": [
  {
   "cell_type": "raw",
   "metadata": {},
   "source": [
    "# regression X:\n",
    "3x + 4y + 8 = 0\n",
    "\n",
    "\n",
    "- 4y = 3x + 8\n",
    "\n",
    " \n",
    "-y = 3x/4 + 8/4\n",
    "-y = 3x/4 + 4 (reverse signal)\n",
    "y = -3x/4 - 4\n",
    "bx = -3/4\n",
    "regression Y:\n",
    "4x + 3y + 7 = 0\n",
    "-4y = 3y + 7\n",
    "-x = 3x/4 + 7/4 (reverse signal)\n",
    "y =  -3x/4 - 7/4\n",
    "by = -3/4\n",
    "r² = bx * by\n",
    "r² = -3/4 * -3/4\n",
    "r² = 9/16\n",
    "r +/- 3/4\n",
    "if bx = by then\n",
    "  r = -3/4\n",
    "\"\"\"\n",
    "\n",
    "print (\"Result is: {}\".format(\"-3/4\"))"
   ]
  },
  {
   "cell_type": "markdown",
   "metadata": {},
   "source": [
    "<img src=\"Screenshot 2020-11-18 144504.png\">"
   ]
  },
  {
   "cell_type": "code",
   "execution_count": null,
   "metadata": {},
   "outputs": [],
   "source": []
  }
 ],
 "metadata": {
  "kernelspec": {
   "display_name": "Python 3",
   "language": "python",
   "name": "python3"
  },
  "language_info": {
   "codemirror_mode": {
    "name": "ipython",
    "version": 3
   },
   "file_extension": ".py",
   "mimetype": "text/x-python",
   "name": "python",
   "nbconvert_exporter": "python",
   "pygments_lexer": "ipython3",
   "version": "3.8.3"
  }
 },
 "nbformat": 4,
 "nbformat_minor": 4
}
