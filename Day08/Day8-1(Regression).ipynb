{
 "cells": [
  {
   "cell_type": "code",
   "execution_count": 1,
   "metadata": {},
   "outputs": [
    {
     "name": "stdout",
     "output_type": "stream",
     "text": [
      "78.288\n"
     ]
    }
   ],
   "source": [
    "# Enter your code here. Read input from STDIN. Print output to STDOUT\n",
    "\n",
    "\n",
    "n = 5\n",
    "X = [95, 85, 80, 70, 60]\n",
    "Y = [85, 95, 70, 65, 70]\n",
    "x=80\n",
    "\n",
    "def mean(x,n):\n",
    "    return sum(x)/n\n",
    "\n",
    "def b(n,X,Y):\n",
    "    xy=sum([X[i]*Y[i] for i in range(n)])\n",
    "    x_sq=sum([x**2 for x in X]) \n",
    "    return (n * xy - (sum(X)*sum(Y))) / (n * x_sq - (sum(X)**2))\n",
    "\n",
    "def a(X,Y,n):\n",
    "    y_mean=mean(Y,n)\n",
    "    x_mean=mean(X,n)\n",
    "    B=b(n,X,Y)\n",
    "    a= y_mean - B*x_mean\n",
    "    return a,B\n",
    "\n",
    "def ans(a,b,x,X,Y,n):\n",
    "    a,b=a(X,Y,n)\n",
    "    return a+b*x \n",
    "print(\"{0:.3f}\".format(ans(a,b,x,X,Y,n)))"
   ]
  },
  {
   "cell_type": "markdown",
   "metadata": {},
   "source": [
    "<img src= \"Screenshot 2020-11-18 144851.PNG\">"
   ]
  },
  {
   "cell_type": "markdown",
   "metadata": {},
   "source": [
    "<img src =\"Screenshot 2020-11-18 145230.PNG\">"
   ]
  },
  {
   "cell_type": "code",
   "execution_count": null,
   "metadata": {},
   "outputs": [],
   "source": []
  }
 ],
 "metadata": {
  "kernelspec": {
   "display_name": "Python 3",
   "language": "python",
   "name": "python3"
  },
  "language_info": {
   "codemirror_mode": {
    "name": "ipython",
    "version": 3
   },
   "file_extension": ".py",
   "mimetype": "text/x-python",
   "name": "python",
   "nbconvert_exporter": "python",
   "pygments_lexer": "ipython3",
   "version": "3.8.3"
  }
 },
 "nbformat": 4,
 "nbformat_minor": 4
}
